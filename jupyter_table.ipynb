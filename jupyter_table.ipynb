{
 "cells": [
  {
   "cell_type": "markdown",
   "metadata": {},
   "source": [
    "| Model | Onion | Cookies | Rice |\n",
    "| :--: | :--:  | :--:  | :--:|\n",
    "| this | Could | be | nice |\n",
    "| it  | looks | some | thing|\n",
    "| like | a | Cheap | table|\n"
   ]
  }
 ],
 "metadata": {
  "language_info": {
   "name": "python"
  },
  "orig_nbformat": 4
 },
 "nbformat": 4,
 "nbformat_minor": 2
}
